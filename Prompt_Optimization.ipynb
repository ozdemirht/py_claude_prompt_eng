{
 "cells": [
  {
   "metadata": {},
   "cell_type": "markdown",
   "source": [
    "Prompt Optimization\n",
    "\n",
    "Prompt Engineering recommends many best practices to build a prompt that completes the best output for the targetted goal.\n",
    "It is an iterative process."
   ],
   "id": "ca58222a2a18d07b"
  },
  {
   "metadata": {},
   "cell_type": "markdown",
   "source": "This notebook started from codes in Antrophic Building with the Calude API course.",
   "id": "f377167629913aed"
  },
  {
   "metadata": {},
   "cell_type": "markdown",
   "source": "The first class definition is to abstract away available LLM solutions.",
   "id": "e67640b93c2c0131"
  },
  {
   "metadata": {
    "collapsed": true,
    "ExecuteTime": {
     "end_time": "2025-09-22T18:21:06.349728Z",
     "start_time": "2025-09-22T18:21:06.333031Z"
    }
   },
   "cell_type": "code",
   "source": [
    "import json\n",
    "import concurrent.futures\n",
    "import re\n",
    "from textwrap import dedent\n",
    "from statistics import mean\n",
    "from dotenv import load_dotenv\n",
    "from anthropic import Anthropic\n",
    "\n",
    "class LLMClient:\n",
    "    model = None\n",
    "\n",
    "    def __init__(self):\n",
    "        model=None\n",
    "\n",
    "    def getModel(self):\n",
    "        return model"
   ],
   "id": "initial_id",
   "outputs": [],
   "execution_count": 6
  },
  {
   "metadata": {},
   "cell_type": "markdown",
   "source": "",
   "id": "16e26af54cf0b959"
  },
  {
   "metadata": {
    "ExecuteTime": {
     "end_time": "2025-09-22T18:21:12.380790Z",
     "start_time": "2025-09-22T18:21:12.374751Z"
    }
   },
   "cell_type": "code",
   "source": [
    "from anthropic import Anthropic\n",
    "\n",
    "class AntrophicClient(LLMClient):\n",
    "    client = None\n",
    "    def __init__(self, model):\n",
    "        LLMClient.__init__(self)\n",
    "        self.model = model\n",
    "        client = Anthropic()()\n",
    "\n",
    "\n",
    "    def add_user_message(messages, text):\n",
    "        user_message = {\"role\": \"user\", \"content\": text}\n",
    "        messages.append(user_message)\n",
    "\n",
    "\n",
    "    def add_assistant_message(messages, text):\n",
    "        assistant_message = {\"role\": \"assistant\", \"content\": text}\n",
    "        messages.append(assistant_message)\n",
    "\n",
    "\n",
    "    def chat(messages, system=None, temperature=1.0, stop_sequences=[]):\n",
    "        params = {\n",
    "            \"model\": model,\n",
    "            \"max_tokens\": 1000,\n",
    "            \"messages\": messages,\n",
    "            \"temperature\": temperature,\n",
    "            \"stop_sequences\": stop_sequences,\n",
    "        }\n",
    "\n",
    "        if system:\n",
    "            params[\"system\"] = system\n",
    "\n",
    "        message = client.messages.create(**params)\n",
    "        return message.content[0].text"
   ],
   "id": "e5357b3345bcfeb",
   "outputs": [],
   "execution_count": 7
  }
 ],
 "metadata": {
  "kernelspec": {
   "display_name": "Python [conda env:tim-test-env]",
   "language": "python",
   "name": "conda-env-tim-test-env-py"
  },
  "language_info": {
   "codemirror_mode": {
    "name": "ipython",
    "version": 2
   },
   "file_extension": ".py",
   "mimetype": "text/x-python",
   "name": "python",
   "nbconvert_exporter": "python",
   "pygments_lexer": "ipython2",
   "version": "2.7.6"
  }
 },
 "nbformat": 4,
 "nbformat_minor": 5
}
