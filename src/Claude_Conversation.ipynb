{
 "cells": [
  {
   "metadata": {},
   "cell_type": "markdown",
   "source": "<h1>Interaction with Claude API</h1>\n",
   "id": "74d6092282867be2"
  },
  {
   "metadata": {},
   "cell_type": "markdown",
   "source": [
    "<h2>Setup</h2>\n",
    "Install anthropic and python-dotenv libraries<br>\n",
    "python-dotenv allows program to load configuration data from .env file. <br>"
   ],
   "id": "4053b7d9e39b7185"
  },
  {
   "metadata": {
    "collapsed": true
   },
   "cell_type": "code",
   "outputs": [],
   "execution_count": null,
   "source": "%pip install anthropic python-dotenv",
   "id": "initial_id"
  },
  {
   "metadata": {},
   "cell_type": "markdown",
   "source": "",
   "id": "e5b855e1588e3012"
  },
  {
   "metadata": {
    "ExecuteTime": {
     "end_time": "2025-09-23T02:14:46.038572Z",
     "start_time": "2025-09-23T02:14:46.032446Z"
    }
   },
   "cell_type": "code",
   "source": [
    "from anthropic import Anthropic\n",
    "\n",
    "class AntrophicPrompt():\n",
    "\n",
    "    def __init__(self, model=\"claude-3-5-haiku-latest\"):\n",
    "        self.model = model\n",
    "        self.client = Anthropic()\n",
    "        self.messages = []\n",
    "        self.user_message = None\n",
    "        self.assistant_message = None\n",
    "        self.system_message = None\n",
    "\n",
    "    def add_user_message(self, text):\n",
    "        self.user_message = {\"role\": \"user\", \"content\": text}\n",
    "        self.messages.append(self.user_message)\n",
    "\n",
    "\n",
    "    def add_assistant_message(self, text):\n",
    "        self.assistant_message = {\"role\": \"assistant\", \"content\": text}\n",
    "        self.messages.append(self.assistant_message)\n",
    "\n",
    "\n",
    "    def set_system_message(self, text):\n",
    "        self.system_message = text\n",
    "\n",
    "    def gen_completion(self, system=None, temperature=1.0, stop_sequences=[]):\n",
    "        params = {\n",
    "            \"model\": self.model,\n",
    "            \"max_tokens\": 1000,\n",
    "            \"messages\": self.messages,\n",
    "            \"temperature\": temperature,\n",
    "            \"stop_sequences\": stop_sequences,\n",
    "        }\n",
    "\n",
    "        if system:\n",
    "            params[\"system\"] = system\n",
    "        elif self.system_message:\n",
    "            params[\"system\"] = self.system_message\n",
    "\n",
    "        message = self.client.messages.create(**params)\n",
    "        return message.content[0].text\n",
    "\n",
    "    def clear_history(self):\n",
    "        self.messages = []\n",
    "        self.user_message = None\n",
    "        self.assistant_message = None\n",
    "        self.system_message = None\n",
    "        self.model = \"claude-3-5-haiku-latest\""
   ],
   "id": "8fa48b9f4eed57f",
   "outputs": [],
   "execution_count": 31
  },
  {
   "metadata": {},
   "cell_type": "markdown",
   "source": "Get API Key",
   "id": "18e121d5ff1b772b"
  },
  {
   "metadata": {
    "ExecuteTime": {
     "end_time": "2025-09-23T01:36:09.251677Z",
     "start_time": "2025-09-23T01:36:09.241818Z"
    }
   },
   "cell_type": "code",
   "source": [
    "# Load API Key\n",
    "from dotenv import load_dotenv\n",
    "load_dotenv()"
   ],
   "id": "3761ce9e83c11b56",
   "outputs": [
    {
     "data": {
      "text/plain": [
       "True"
      ]
     },
     "execution_count": 15,
     "metadata": {},
     "output_type": "execute_result"
    }
   ],
   "execution_count": 15
  },
  {
   "metadata": {},
   "cell_type": "markdown",
   "source": "Let's test",
   "id": "449454b0d926abd"
  },
  {
   "metadata": {
    "ExecuteTime": {
     "end_time": "2025-09-23T02:14:53.974701Z",
     "start_time": "2025-09-23T02:14:52.081078Z"
    }
   },
   "cell_type": "code",
   "source": [
    "#\n",
    "model = \"claude-sonnet-4-0\"\n",
    "client = AntrophicPrompt(model)\n",
    "\n",
    "user_prompt = \"Define quantum computing in one sentence\"\n",
    "client.add_user_message(user_prompt)\n",
    "\n",
    "#Get Completion\n",
    "answer = client.gen_completion()\n",
    "print(answer)"
   ],
   "id": "f004b77d081c8a01",
   "outputs": [
    {
     "name": "stdout",
     "output_type": "stream",
     "text": [
      "Quantum computing is a revolutionary computing paradigm that harnesses quantum mechanical phenomena like superposition and entanglement to process information in ways that can potentially solve certain complex problems exponentially faster than classical computers.\n"
     ]
    }
   ],
   "execution_count": 32
  },
  {
   "metadata": {},
   "cell_type": "markdown",
   "source": [
    "The following example demonstrates how the context helps. <br>\n",
    "The user prompt is \"Write another sentence\" and this prompt without a context is very ambiguous. <br>"
   ],
   "id": "6a821111476e88af"
  },
  {
   "metadata": {
    "ExecuteTime": {
     "end_time": "2025-09-23T01:39:31.124534Z",
     "start_time": "2025-09-23T01:39:27.884456Z"
    }
   },
   "cell_type": "code",
   "source": [
    "client.add_assistant_message(answer)\n",
    "user_prompt = \"Write another sentence\"\n",
    "client.add_user_message(user_prompt)\n",
    "answer = client.gen_completion()\n",
    "print(answer)"
   ],
   "id": "5fc0c798738ccd67",
   "outputs": [
    {
     "name": "stdout",
     "output_type": "stream",
     "text": [
      "Quantum computers use quantum bits (qubits) that can exist in multiple states simultaneously, unlike classical bits that are limited to just 0 or 1, enabling them to perform many calculations in parallel.\n"
     ]
    }
   ],
   "execution_count": 17
  },
  {
   "metadata": {},
   "cell_type": "markdown",
   "source": [
    "This example demonstrates how to conversation via Claude API <br>\n",
    "<ol>\n",
    "<li> What is 2+3?\n",
    "<li> Add 7 to that\n",
    "<li> Divide by 2 and if the result is even print \"even\" otherwise print \"odd\"\n",
    "</ol>"
   ],
   "id": "3da23b279f7c7618"
  },
  {
   "metadata": {
    "ExecuteTime": {
     "end_time": "2025-09-23T01:50:27.764880Z",
     "start_time": "2025-09-23T01:49:37.128014Z"
    }
   },
   "cell_type": "code",
   "source": [
    "client.clear_history()\n",
    "i=0\n",
    "while i < 3:\n",
    "    user_input=input(\"?>\")\n",
    "    print(\"user_input: \"+user_input)\n",
    "    client.add_user_message(user_input)\n",
    "    answer = client.gen_completion()\n",
    "    client.add_assistant_message(answer)\n",
    "    print(\"------------\")\n",
    "    print(answer)\n",
    "    print(\"------------\")\n",
    "    i += 1"
   ],
   "id": "7da648dd448b00e6",
   "outputs": [
    {
     "name": "stdout",
     "output_type": "stream",
     "text": [
      "user_input: What is 2+5?\n",
      "------------\n",
      "7\n",
      "------------\n",
      "user_input: Add 7 to that\n",
      "------------\n",
      "7 + 7 = 14\n",
      "------------\n",
      "user_input: Divide by 2 and if the result is even print \"even\" otherwise print \"odd\"\n",
      "------------\n",
      "Let me solve this step by step:\n",
      "\n",
      "1. 14 ÷ 2 = 7\n",
      "2. 7 is an odd number\n",
      "\n",
      "So, the result is \"odd\"\n",
      "------------\n"
     ]
    }
   ],
   "execution_count": 25
  },
  {
   "metadata": {},
   "cell_type": "markdown",
   "source": [
    "<h2>How does system prompt influence the generated completion?</h2>\n",
    "The effect of \"system\" role in the prompt<br>\n",
    "Here it is used to assign a role to LLM <br>"
   ],
   "id": "7ae0235533f914af"
  },
  {
   "metadata": {
    "ExecuteTime": {
     "end_time": "2025-09-23T02:15:07.982920Z",
     "start_time": "2025-09-23T02:14:59.038780Z"
    }
   },
   "cell_type": "code",
   "source": [
    "# Start a new conversation\n",
    "client.clear_history()\n",
    "user_prompt = \"How to solve x^2+2x=-1 for x?\"\n",
    "client.add_user_message(user_prompt)\n",
    "\n",
    "# Without system prompt\n",
    "answer = client.gen_completion()\n",
    "print(f\"Answer without system prompt : \"+answer)\n",
    "\n",
    "# With system prompt\n",
    "system = \"\"\"\n",
    "You are a patient math tutor.\n",
    "Do not directly answer a student's questions.\n",
    "Guide them to a solution step by step.\n",
    "\"\"\"\n",
    "client.set_system_message(system)\n",
    "answer2 = client.gen_completion()\n",
    "print(f\"Answer with system prompt : \"+answer2)"
   ],
   "id": "45311865c5052616",
   "outputs": [
    {
     "name": "stdout",
     "output_type": "stream",
     "text": [
      "Answer without system prompt : Let's solve this step by step:\n",
      "\n",
      "1) First, rearrange the equation to standard quadratic form by moving all terms to one side:\n",
      "   x^2 + 2x + 1 = 0\n",
      "\n",
      "2) This is a quadratic equation in the form ax^2 + bx + c = 0\n",
      "   Where a = 1, b = 2, and c = 1\n",
      "\n",
      "3) We can solve this using the quadratic formula: x = [-b ± √(b^2 - 4ac)] / (2a)\n",
      "\n",
      "4) Substitute the values:\n",
      "   x = [-2 ± √(2^2 - 4(1)(1))] / (2(1))\n",
      "\n",
      "5) Simplify under the square root:\n",
      "   x = [-2 ± √(4 - 4)] / 2\n",
      "   x = [-2 ± √0] / 2\n",
      "   x = [-2 ± 0] / 2\n",
      "\n",
      "6) This gives two solutions:\n",
      "   x = -2/2 = -1\n",
      "\n",
      "Therefore, the solution is x = -1.\n",
      "\n",
      "You can verify this by plugging -1 back into the original equation:\n",
      "(-1)^2 + 2(-1) = 1 - 2 = -1 ✓\n",
      "Answer with system prompt : Let's solve this step by step:\n",
      "\n",
      "1. First, let's rearrange the equation to standard quadratic form\n",
      "   • Move all terms to one side of the equation\n",
      "   • Add 1 to both sides\n",
      "   x^2 + 2x + 1 = 0\n",
      "\n",
      "2. This looks like a perfect square trinomial. Can you recognize the pattern?\n",
      "   • Do you see how x^2 + 2x + 1 can be factored?\n",
      "\n",
      "3. Hint: What number, when squared, gives 1? \n",
      "   • This suggests we can factor it as (x + 1)^2\n",
      "\n",
      "4. Would you like to try factoring the left side of the equation?\n",
      "\n",
      "5. After factoring, what would the next step be to solve for x?\n",
      "\n",
      "Would you like to try working through these steps?\n"
     ]
    }
   ],
   "execution_count": 33
  },
  {
   "metadata": {},
   "cell_type": "markdown",
   "source": [
    "The first test, LLM gives the answer and shows how it solved step by step. <br>\n",
    "But the second answer is adjusted based on LLM is playing \"a patient math tutor\" and guides the user via questions. <br>"
   ],
   "id": "a85eb319e842f05c"
  }
 ],
 "metadata": {
  "kernelspec": {
   "display_name": "Python [conda env:tim-test-env]",
   "language": "python",
   "name": "conda-env-tim-test-env-py"
  },
  "language_info": {
   "codemirror_mode": {
    "name": "ipython",
    "version": 2
   },
   "file_extension": ".py",
   "mimetype": "text/x-python",
   "name": "python",
   "nbconvert_exporter": "python",
   "pygments_lexer": "ipython2",
   "version": "2.7.6"
  }
 },
 "nbformat": 4,
 "nbformat_minor": 5
}
